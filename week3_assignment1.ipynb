{
 "cells": [
  {
   "cell_type": "markdown",
   "metadata": {
    "id": "-eBzZeQ-by2x"
   },
   "source": [
    "Q1. Which keyword is used to create a function? Create a function to return a list of odd numbers in the\n",
    "range of 1 to 25."
   ]
  },
  {
   "cell_type": "code",
   "execution_count": 1,
   "metadata": {
    "colab": {
     "base_uri": "https://localhost:8080/"
    },
    "id": "7ohwiEi_biex",
    "outputId": "beaf8d64-1ce5-4186-e2e5-12a30590e5e4"
   },
   "outputs": [
    {
     "name": "stdout",
     "output_type": "stream",
     "text": [
      "[1, 3, 5, 7, 9, 11, 13, 15, 17, 19, 21, 23, 25]\n"
     ]
    }
   ],
   "source": [
    "# In python \"def\" keyword is used to create a function\n",
    "def odd_numbers(from_num, to_num):\n",
    "  odd_list = []\n",
    "  for i in range(from_num,to_num+1):\n",
    "    if i%2 != 0:\n",
    "      odd_list.append(i)\n",
    "  return odd_list\n",
    "\n",
    "result = odd_numbers(1,25)\n",
    "print(result)"
   ]
  },
  {
   "cell_type": "markdown",
   "metadata": {
    "id": "GnJ7whEqdPMG"
   },
   "source": [
    "Q2. Why *args and **kwargs is used in some functions? Create a function each for *args and **kwargs\n",
    "to demonstrate their use."
   ]
  },
  {
   "cell_type": "code",
   "execution_count": 2,
   "metadata": {
    "colab": {
     "base_uri": "https://localhost:8080/"
    },
    "id": "0N23rVPHdOG9",
    "outputId": "df5253c0-54b9-4ea0-a671-fcdc1cbb2de1"
   },
   "outputs": [
    {
     "name": "stdout",
     "output_type": "stream",
     "text": [
      "potato\n",
      "tomato\n",
      "onion\n",
      "cabbage\n",
      "first_name=Gaurav\n",
      "last_name=Agrawal\n",
      "location=Mathura\n"
     ]
    }
   ],
   "source": [
    "# \"args\" or \"*args\" are used in function to pass variale number of argumrnts or no of arguments are unknown\n",
    "# \"kwargs\" or \"**kwargs\" are used to pass keyworded variable\n",
    "# function for args\n",
    "def vegetables(*fruits):\n",
    "  for fruit in fruits:\n",
    "    print(fruit)\n",
    "\n",
    "vegetables('potato','tomato','onion','cabbage')\n",
    "# function for **kargs\n",
    "def student_details(**student):\n",
    "  for key,value in student.items():\n",
    "    print(f\"{key}={value}\")\n",
    "student_details(first_name=\"Gaurav\",last_name=\"Agrawal\", location=\"Mathura\")"
   ]
  },
  {
   "cell_type": "markdown",
   "metadata": {
    "id": "l5biZ_6mpX8n"
   },
   "source": [
    "Q3. What is an iterator in python? Name the method used to initialise the iterator object and the method\n",
    "used for iteration. Use these methods to print the first five elements of the given list [2, 4, 6, 8, 10, 12, 14,\n",
    "16, 18, 20]."
   ]
  },
  {
   "cell_type": "code",
   "execution_count": 4,
   "metadata": {
    "id": "NE22YioAdJaC"
   },
   "outputs": [],
   "source": [
    "# An iterator is an object that can can contain countable number of items and we can iterate it means we traverse all its value one by one.\n",
    "# iter() method is used to initialize the iterator object and next() methhod is used for iteration\n",
    "numbers = [2, 4, 6, 8, 10, 12, 14, 16, 18, 20]\n",
    "iter_num = iter(numbers)"
   ]
  },
  {
   "cell_type": "code",
   "execution_count": 5,
   "metadata": {
    "colab": {
     "base_uri": "https://localhost:8080/"
    },
    "id": "hDi_V8SjL0Sa",
    "outputId": "24ceaeeb-6271-4aad-ed85-b75f2ce82492"
   },
   "outputs": [
    {
     "name": "stdout",
     "output_type": "stream",
     "text": [
      "2\n"
     ]
    }
   ],
   "source": [
    "print(next(iter_num))"
   ]
  },
  {
   "cell_type": "code",
   "execution_count": null,
   "metadata": {
    "colab": {
     "base_uri": "https://localhost:8080/"
    },
    "id": "uOTNiCvANH7t",
    "outputId": "72063191-3571-472a-9546-4c2d10242012"
   },
   "outputs": [
    {
     "name": "stdout",
     "output_type": "stream",
     "text": [
      "4\n"
     ]
    }
   ],
   "source": [
    "print(next(iter_num))"
   ]
  },
  {
   "cell_type": "code",
   "execution_count": null,
   "metadata": {
    "colab": {
     "base_uri": "https://localhost:8080/"
    },
    "id": "pxJU7whUNKvm",
    "outputId": "fcb95c9b-e38d-487f-e857-bf5fb2d4bf76"
   },
   "outputs": [
    {
     "name": "stdout",
     "output_type": "stream",
     "text": [
      "6\n"
     ]
    }
   ],
   "source": [
    "print(next(iter_num))"
   ]
  },
  {
   "cell_type": "code",
   "execution_count": null,
   "metadata": {
    "colab": {
     "base_uri": "https://localhost:8080/"
    },
    "id": "8aSLd-i7NN8N",
    "outputId": "bfc18b99-8f8c-4a47-ad35-ef9e333bd849"
   },
   "outputs": [
    {
     "name": "stdout",
     "output_type": "stream",
     "text": [
      "8\n"
     ]
    }
   ],
   "source": [
    "print(next(iter_num))"
   ]
  },
  {
   "cell_type": "markdown",
   "metadata": {
    "id": "hmUqLU4mpfWB"
   },
   "source": [
    "Q4. What is a generator function in python? Why yield keyword is used? Give an example of a generator\n",
    "function."
   ]
  },
  {
   "cell_type": "code",
   "execution_count": 6,
   "metadata": {
    "colab": {
     "base_uri": "https://localhost:8080/"
    },
    "id": "rN8ZaSNipehM",
    "outputId": "9b76addf-7a9d-4e7d-8d2d-5a44192e93c7"
   },
   "outputs": [
    {
     "name": "stdout",
     "output_type": "stream",
     "text": [
      "Gaurav\n",
      "shiv\n",
      "pwskills\n"
     ]
    }
   ],
   "source": [
    "# a generator is a function that returns an iterator that give us sequence of value when iterate over it\n",
    "# yield keyword is used to produce a value from generator\n",
    "def GeneratorFun():\n",
    "    yield \"Gaurav\"\n",
    "    yield \"shiv\"\n",
    "    yield \"pwskills\"\n",
    "\n",
    "# code to print result of avobe function\n",
    "for name in GeneratorFun():\n",
    "    print(name)"
   ]
  },
  {
   "cell_type": "markdown",
   "metadata": {
    "id": "WCAxSKQmsuOz"
   },
   "source": [
    "Q5. Create a generator function for prime numbers less than 1000. Use the next() method to print the\n",
    "first 20 prime numbers."
   ]
  },
  {
   "cell_type": "code",
   "execution_count": 7,
   "metadata": {
    "colab": {
     "base_uri": "https://localhost:8080/"
    },
    "id": "ahXsAQ79stKu",
    "outputId": "2cca582b-2046-41fd-ecc0-39cb9e5cbfb5"
   },
   "outputs": [
    {
     "name": "stdout",
     "output_type": "stream",
     "text": [
      "2\n",
      "3\n",
      "5\n",
      "7\n",
      "11\n",
      "13\n",
      "17\n",
      "19\n",
      "23\n",
      "29\n",
      "31\n",
      "37\n",
      "41\n",
      "43\n",
      "47\n",
      "53\n",
      "59\n",
      "61\n",
      "67\n",
      "71\n"
     ]
    }
   ],
   "source": [
    "def is_prime(n):\n",
    "    if n < 2:\n",
    "        return False\n",
    "    for i in range(2, int(n ** 0.5) + 1):\n",
    "        if n % i == 0:\n",
    "            return False\n",
    "    return True\n",
    "def prime_generator():\n",
    "    num = 2\n",
    "    if num <=1000:\n",
    "      while True:\n",
    "          if is_prime(num):\n",
    "              yield num\n",
    "          num += 1\n",
    "\n",
    "prime_gen = prime_generator()\n",
    "\n",
    "for _ in range(20):\n",
    "  prime = next(prime_gen)\n",
    "  print(prime)"
   ]
  },
  {
   "cell_type": "markdown",
   "metadata": {
    "id": "FbqaW22PsxCs"
   },
   "source": [
    "Q6. Write a python program to print the first 10 Fibonacci numbers using a while loop."
   ]
  },
  {
   "cell_type": "code",
   "execution_count": 8,
   "metadata": {
    "colab": {
     "base_uri": "https://localhost:8080/"
    },
    "id": "QW9cRrUWswPL",
    "outputId": "f4e2ef29-76e2-47d0-8604-28c0202d80c6"
   },
   "outputs": [
    {
     "name": "stdout",
     "output_type": "stream",
     "text": [
      "0\n",
      "1\n",
      "1\n",
      "2\n",
      "3\n",
      "5\n",
      "8\n",
      "13\n",
      "21\n",
      "34\n"
     ]
    }
   ],
   "source": [
    "a, b = 0, 1\n",
    "count = 0\n",
    "\n",
    "while count<10:\n",
    "  print(a)\n",
    "  a,b = b, a+b\n",
    "  count = count+1"
   ]
  },
  {
   "cell_type": "markdown",
   "metadata": {
    "id": "3ih8YljjtePj"
   },
   "source": [
    "Q7. Write a List Comprehension to iterate through the given string: ‘pwskills’.\n",
    "Expected output: ['p', 'w', 's', 'k', 'i', 'l', 'l', 's']"
   ]
  },
  {
   "cell_type": "code",
   "execution_count": 9,
   "metadata": {
    "colab": {
     "base_uri": "https://localhost:8080/"
    },
    "id": "T-Mg2u0ltdrW",
    "outputId": "e8b1fe86-37ab-4bc1-b68f-ddd1ea09bd1b"
   },
   "outputs": [
    {
     "name": "stdout",
     "output_type": "stream",
     "text": [
      "['p', 'w', 's', 'k', 'i', 'l', 'l', 's']\n"
     ]
    }
   ],
   "source": [
    "input_string = \"pwskills\"\n",
    "output_list = []\n",
    "for i in range(len(input_string)):\n",
    "  output_list.append(input_string[i])\n",
    "print(output_list)"
   ]
  },
  {
   "cell_type": "markdown",
   "metadata": {
    "id": "dSyI_jONuJIa"
   },
   "source": [
    "Q8. Write a python program to check whether a given number is Palindrome or not using a while loop."
   ]
  },
  {
   "cell_type": "code",
   "execution_count": 10,
   "metadata": {
    "colab": {
     "base_uri": "https://localhost:8080/"
    },
    "id": "rOYXKXxmuIkA",
    "outputId": "e306a94d-e2e1-49e8-d12e-633fcd13418b"
   },
   "outputs": [
    {
     "name": "stdin",
     "output_type": "stream",
     "text": [
      "enter the number 45\n"
     ]
    },
    {
     "name": "stdout",
     "output_type": "stream",
     "text": [
      "45 is not a palindrome number\n"
     ]
    }
   ],
   "source": [
    "number = int(input(\"enter the number\"))\n",
    "number_copy = number\n",
    "rev = 0\n",
    "while number>0 :\n",
    "  rem = number % 10\n",
    "  rev = rev*10+rem\n",
    "  number = number//10\n",
    "if number_copy == rev:\n",
    "  print(number_copy, \"is palindrome number\")\n",
    "else:\n",
    "  print(number_copy, \"is not a palindrome number\")"
   ]
  },
  {
   "cell_type": "markdown",
   "metadata": {
    "id": "frdy8-Ghv1mj"
   },
   "source": [
    "Q9. Write a code to print odd numbers from 1 to 100 using list comprehension."
   ]
  },
  {
   "cell_type": "code",
   "execution_count": 11,
   "metadata": {
    "colab": {
     "base_uri": "https://localhost:8080/"
    },
    "id": "rvOPWDBgv08Z",
    "outputId": "cc609dd8-a92c-4dc6-fd2c-b8ada7e388d4"
   },
   "outputs": [
    {
     "name": "stdout",
     "output_type": "stream",
     "text": [
      "[1, 2, 3, 4, 5, 6, 7, 8, 9, 10, 11, 12, 13, 14, 15, 16, 17, 18, 19, 20, 21, 22, 23, 24, 25, 26, 27, 28, 29, 30, 31, 32, 33, 34, 35, 36, 37, 38, 39, 40, 41, 42, 43, 44, 45, 46, 47, 48, 49, 50, 51, 52, 53, 54, 55, 56, 57, 58, 59, 60, 61, 62, 63, 64, 65, 66, 67, 68, 69, 70, 71, 72, 73, 74, 75, 76, 77, 78, 79, 80, 81, 82, 83, 84, 85, 86, 87, 88, 89, 90, 91, 92, 93, 94, 95, 96, 97, 98, 99, 100]\n",
      "[1, 3, 5, 7, 9, 11, 13, 15, 17, 19, 21, 23, 25, 27, 29, 31, 33, 35, 37, 39, 41, 43, 45, 47, 49, 51, 53, 55, 57, 59, 61, 63, 65, 67, 69, 71, 73, 75, 77, 79, 81, 83, 85, 87, 89, 91, 93, 95, 97, 99]\n"
     ]
    }
   ],
   "source": [
    "numbers = []\n",
    "odd_numbers = []\n",
    "for i in range(1,101):\n",
    "  numbers.append(i)\n",
    "print(numbers)\n",
    "for odd in range(0,100,2):\n",
    "  odd_numbers.append(numbers[odd])\n",
    "print(odd_numbers)"
   ]
  }
 ],
 "metadata": {
  "colab": {
   "provenance": []
  },
  "kernelspec": {
   "display_name": "Python 3 (ipykernel)",
   "language": "python",
   "name": "python3"
  },
  "language_info": {
   "codemirror_mode": {
    "name": "ipython",
    "version": 3
   },
   "file_extension": ".py",
   "mimetype": "text/x-python",
   "name": "python",
   "nbconvert_exporter": "python",
   "pygments_lexer": "ipython3",
   "version": "3.10.8"
  }
 },
 "nbformat": 4,
 "nbformat_minor": 4
}
