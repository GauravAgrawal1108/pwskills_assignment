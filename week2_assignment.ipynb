{
 "cells": [
  {
   "cell_type": "markdown",
   "metadata": {
    "id": "6ChENC3agdsF"
   },
   "source": [
    "Q1. How do you comment code in Python? What are the different types of comments?"
   ]
  },
  {
   "cell_type": "code",
   "execution_count": 8,
   "metadata": {
    "colab": {
     "base_uri": "https://localhost:8080/"
    },
    "id": "JGsw-hn_dbiZ",
    "outputId": "697214a5-5d77-4162-aa50-357b03a80d4e"
   },
   "outputs": [
    {
     "name": "stdout",
     "output_type": "stream",
     "text": [
      "these are comments\n"
     ]
    }
   ],
   "source": [
    "# for comments we can use # in starting of any statement and for multline we can insert # infront of everyline\n",
    "# there are two types of comments\n",
    "# this is the first type of comments\n",
    "''' This is second type of comment\n",
    "and mainly use for\n",
    "multi\n",
    "line'''\n",
    "print(\"these are comments\")"
   ]
  },
  {
   "cell_type": "markdown",
   "metadata": {
    "id": "SPiDn7iMiGj4"
   },
   "source": [
    "Q2. What are variables in Python? How do you declare and assign values to variables?"
   ]
  },
  {
   "cell_type": "code",
   "execution_count": 9,
   "metadata": {
    "id": "EWXq6FwNdSgR"
   },
   "outputs": [],
   "source": [
    "# varibles are used for store some value and have some memory location.we can assign some value to the variable\n",
    "var1 = 76\n",
    "var2 = \"pwskills\"\n",
    "var3 = 12.26\n",
    "var4 = 3+4j"
   ]
  },
  {
   "cell_type": "markdown",
   "metadata": {
    "id": "qbHvHEaSiu73"
   },
   "source": [
    "Q3. How do you convert one data type to another in Python?"
   ]
  },
  {
   "cell_type": "code",
   "execution_count": 3,
   "metadata": {
    "colab": {
     "base_uri": "https://localhost:8080/"
    },
    "id": "wGFZ4Amwitf5",
    "outputId": "c802cad5-9557-4ca8-d66c-9af91a56c875"
   },
   "outputs": [
    {
     "name": "stdout",
     "output_type": "stream",
     "text": [
      "<class 'int'>\n",
      "<class 'str'>\n"
     ]
    }
   ],
   "source": [
    "# we can simply convert one data type into another by using data type function like\n",
    "string = \"145\"\n",
    "str_to_int = int(string)\n",
    "print(type(str_to_int))\n",
    "integer = 365\n",
    "int_t0_str = str(integer)\n",
    "print(type(int_t0_str))\n",
    "# by this way we can convert one data type to another"
   ]
  },
  {
   "cell_type": "markdown",
   "metadata": {
    "id": "skOQaJc5liIz"
   },
   "source": [
    "Q4. How do you write and execute a Python script from the command line?"
   ]
  },
  {
   "cell_type": "code",
   "execution_count": 14,
   "metadata": {
    "id": "jjfhffWklhRw"
   },
   "outputs": [],
   "source": [
    "# we can simply write our commands in python command prompt and hit enter to run it \n",
    "# second if we have python script than we have to execute it by writing python -m script.py or python3 -m script.py according to python vresion"
   ]
  },
  {
   "cell_type": "markdown",
   "metadata": {
    "id": "Zmb066w6ncrp"
   },
   "source": [
    "Q5. Given a list my_list = [1, 2, 3, 4, 5], write the code to slice the list and obtain the sub-list [2, 3]."
   ]
  },
  {
   "cell_type": "code",
   "execution_count": 4,
   "metadata": {
    "colab": {
     "base_uri": "https://localhost:8080/"
    },
    "id": "KZHV7UsxnHIh",
    "outputId": "0169c19e-6e65-4dd6-a636-0132c90b6b8e"
   },
   "outputs": [
    {
     "name": "stdout",
     "output_type": "stream",
     "text": [
      "[2, 3]\n"
     ]
    }
   ],
   "source": [
    "my_list = [1, 2, 3, 4, 5]\n",
    "print(my_list[1:3])"
   ]
  },
  {
   "cell_type": "markdown",
   "metadata": {
    "id": "PU29vi49ntnB"
   },
   "source": [
    "Q6. What is a complex number in mathematics, and how is it represented in Python?"
   ]
  },
  {
   "cell_type": "code",
   "execution_count": 16,
   "metadata": {
    "colab": {
     "base_uri": "https://localhost:8080/"
    },
    "id": "2N6tJ0rxnskR",
    "outputId": "1ea845e6-4a2a-4429-f637-0928e7a63926"
   },
   "outputs": [
    {
     "name": "stdout",
     "output_type": "stream",
     "text": [
      "(3+7j)\n"
     ]
    }
   ],
   "source": [
    "# complex number are the number that can contain both real and imaginary part\n",
    "# in this 3 is real part and 7j is imaginary part\n",
    "num = 3+7j\n",
    "print(num)"
   ]
  },
  {
   "cell_type": "markdown",
   "metadata": {
    "id": "xmUcbyVloOtN"
   },
   "source": [
    "Q7. What is the correct way to declare a variable named age and assign the value 25 to it?"
   ]
  },
  {
   "cell_type": "code",
   "execution_count": 2,
   "metadata": {
    "colab": {
     "base_uri": "https://localhost:8080/"
    },
    "id": "g8FVuCSQoN6N",
    "outputId": "f7f5788c-31c2-4b6f-b7ab-490c8b8d782c"
   },
   "outputs": [
    {
     "name": "stdout",
     "output_type": "stream",
     "text": [
      "25\n"
     ]
    }
   ],
   "source": [
    "# the correct way to declare a variable is\n",
    "age = 25\n",
    "print(age)"
   ]
  },
  {
   "cell_type": "markdown",
   "metadata": {
    "id": "peQMm1q-omtG"
   },
   "source": [
    "Q8. Declare a variable named price and assign the value 9.99 to it. What data type does this variable\n",
    "belong to?"
   ]
  },
  {
   "cell_type": "code",
   "execution_count": 19,
   "metadata": {
    "colab": {
     "base_uri": "https://localhost:8080/"
    },
    "id": "WEfZ6IYdogDE",
    "outputId": "f236b35c-03b8-42f0-b534-bcc5a9bc4414"
   },
   "outputs": [
    {
     "name": "stdout",
     "output_type": "stream",
     "text": [
      "<class 'float'>\n"
     ]
    }
   ],
   "source": [
    "price = 9.99\n",
    "print(type(price))  # its type is float"
   ]
  },
  {
   "cell_type": "markdown",
   "metadata": {
    "id": "szW6X8T7o3VT"
   },
   "source": [
    "Q9. Create a variable named name and assign your full name to it as a string. How would you print the\n",
    "value of this variable?"
   ]
  },
  {
   "cell_type": "code",
   "execution_count": 1,
   "metadata": {
    "colab": {
     "base_uri": "https://localhost:8080/"
    },
    "id": "rDjfPbnao2nx",
    "outputId": "1bd3833b-d1b4-4057-b781-a6765e7050d6"
   },
   "outputs": [
    {
     "name": "stdout",
     "output_type": "stream",
     "text": [
      "Gaurav Agrawal\n"
     ]
    }
   ],
   "source": [
    "Name = \"Gaurav Agrawal\"\n",
    "# we can print its value by using print function\n",
    "print(Name)"
   ]
  },
  {
   "cell_type": "markdown",
   "metadata": {
    "id": "zJuszk-5pQ22"
   },
   "source": [
    "Q10. Given the string \"Hello, World!\", extract the substring \"World\"."
   ]
  },
  {
   "cell_type": "code",
   "execution_count": 22,
   "metadata": {
    "colab": {
     "base_uri": "https://localhost:8080/"
    },
    "id": "IsiU7GmmpPnL",
    "outputId": "e4440506-285a-4e71-eb46-88414550d4f5"
   },
   "outputs": [
    {
     "name": "stdout",
     "output_type": "stream",
     "text": [
      "World\n"
     ]
    }
   ],
   "source": [
    "string = \"Hello, World!\"\n",
    "print(string[7:12])"
   ]
  },
  {
   "cell_type": "markdown",
   "metadata": {
    "id": "0G7Uoinop9wa"
   },
   "source": [
    "Q11. Create a variable named \"is_student\" and assign it a boolean value indicating whether you are\n",
    "currently a student or not."
   ]
  },
  {
   "cell_type": "code",
   "execution_count": 23,
   "metadata": {
    "id": "DjE8wizLp9F4"
   },
   "outputs": [],
   "source": [
    "is_student = False"
   ]
  }
 ],
 "metadata": {
  "colab": {
   "provenance": []
  },
  "kernelspec": {
   "display_name": "Python 3 (ipykernel)",
   "language": "python",
   "name": "python3"
  },
  "language_info": {
   "codemirror_mode": {
    "name": "ipython",
    "version": 3
   },
   "file_extension": ".py",
   "mimetype": "text/x-python",
   "name": "python",
   "nbconvert_exporter": "python",
   "pygments_lexer": "ipython3",
   "version": "3.10.8"
  }
 },
 "nbformat": 4,
 "nbformat_minor": 4
}
