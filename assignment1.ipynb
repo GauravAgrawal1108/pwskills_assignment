{
 "cells": [
  {
   "cell_type": "markdown",
   "id": "178e43bd-8c0c-413c-b22c-f206079f3e64",
   "metadata": {},
   "source": [
    "Q1. Create one variable containing following type of data: \n",
    "(i) string \n",
    "(ii) list \n",
    "(iii) float \n",
    "(iv) tuple\n"
   ]
  },
  {
   "cell_type": "code",
   "execution_count": 3,
   "id": "f540081f-15ce-4fb5-8dc1-dc88925feab0",
   "metadata": {},
   "outputs": [
    {
     "name": "stdout",
     "output_type": "stream",
     "text": [
      "This platform is very helpful [45, 87.98, 'Krishna'] 76.7845 (4, 5, 8, 89)\n"
     ]
    }
   ],
   "source": [
    "var1 = \"This platform is very helpful\"\n",
    "var2 = [45, 87.98, \"Krishna\"]\n",
    "var3 = 76.7845\n",
    "var4 = (4, 5, 8, 89)\n",
    "print(var1, var2, var3, var4)"
   ]
  },
  {
   "cell_type": "markdown",
   "id": "025f4846-892e-4e86-85c2-d8df5c8ea5c0",
   "metadata": {},
   "source": [
    "Q2. Given are some following variables containing data: \n",
    "(i) var1 = ‘ ‘ \n",
    "(ii) var2 = ‘[ DS , ML , Python]’ \n",
    "(iii) var3 = [ ‘DS’ , ’ML’ , ‘Python’ ] \n",
    "(iv) var4 = 1. \n",
    "What will be the data type of the above given variable.\n"
   ]
  },
  {
   "cell_type": "code",
   "execution_count": 6,
   "id": "95d9c6e9-b238-4428-a713-a13f4603dfaf",
   "metadata": {},
   "outputs": [
    {
     "name": "stdout",
     "output_type": "stream",
     "text": [
      "<class 'str'>\n",
      "<class 'str'>\n",
      "<class 'list'>\n",
      "<class 'float'>\n"
     ]
    }
   ],
   "source": [
    "var1 = '' \n",
    "var2 = '[ DS , ML , Python]'\n",
    "var3 = [ 'DS' , 'ML' , 'Python' ] \n",
    "var4 = 1.\n",
    "print(type(var1))\n",
    "print(type(var2))\n",
    "print(type(var3))\n",
    "print(type(var4))"
   ]
  },
  {
   "cell_type": "markdown",
   "id": "6ef95bbc-f3a4-4c6a-a6c0-64cc4d722c58",
   "metadata": {},
   "source": [
    "Q3. Explain the use of the following operators using an example: \n",
    "(i) / \n",
    "(ii) %  \n",
    "(iii) // \n",
    "(iv) ** \n"
   ]
  },
  {
   "cell_type": "code",
   "execution_count": 7,
   "id": "4c099997-b134-4e90-93e5-4b8ef093ea43",
   "metadata": {},
   "outputs": [
    {
     "name": "stdout",
     "output_type": "stream",
     "text": [
      "3.3333333333333335\n",
      "1\n",
      "3\n",
      "1000\n"
     ]
    }
   ],
   "source": [
    "a, b = 10,  3\n",
    "# / is used for division\n",
    "print(a/b)\n",
    "# % is used for modulusor remainder\n",
    "print(a%3)\n",
    "# // is used for floor division\n",
    "print(a//b)\n",
    "# ** is used for power or Exponentiatiob\n",
    "print(a**b)\n",
    "     "
   ]
  },
  {
   "cell_type": "markdown",
   "id": "881eefd5-d9d7-4ad6-a7ab-f605f8736b1b",
   "metadata": {},
   "source": [
    "Q4. Create a list of length 10 of your choice containing multiple types of data. Using for loop print the  element and its data type."
   ]
  },
  {
   "cell_type": "code",
   "execution_count": 2,
   "id": "ec8320a9-b796-4b4e-a20c-9400f1267151",
   "metadata": {},
   "outputs": [
    {
     "name": "stdout",
     "output_type": "stream",
     "text": [
      "85.56\n",
      "Ram\n",
      "55\n",
      "81\n",
      "72.84\n",
      "stars\n",
      "88.44\n",
      "(7+6j)\n",
      "Shyam\n",
      "70\n"
     ]
    }
   ],
   "source": [
    "list1 = [85.56, \"Ram\", 55, 81, 72.84, \"stars\", 88.44, 7+6j, 'Shyam', 70]\n",
    "for item in list1:\n",
    "  print(item)"
   ]
  },
  {
   "cell_type": "markdown",
   "id": "c7c41970-1dc4-474e-b40d-a65eba8fc9a0",
   "metadata": {},
   "source": [
    "Q5. Using a while loop, verify if the number A is purely divisible by number B and if so then how many  times it can be divisible. "
   ]
  },
  {
   "cell_type": "code",
   "execution_count": 5,
   "id": "80e3fc67-d1f2-41e6-9550-98ea7d382fa4",
   "metadata": {},
   "outputs": [
    {
     "name": "stdout",
     "output_type": "stream",
     "text": [
      "A is divisible by B and it can be divided 4 times\n"
     ]
    }
   ],
   "source": [
    "A = 24\n",
    "B = 6\n",
    "count = 1\n",
    "while A%B == 0 and count < 2:\n",
    "    count +=1\n",
    "    C = A//B\n",
    "if count >1:\n",
    "    print(f\"A is divisible by B and it can be divided {C} times\")\n",
    "else:\n",
    "    print(\"A is not divisible by B.\")\n"
   ]
  },
  {
   "cell_type": "markdown",
   "id": "cf5c305a-00bf-4638-8953-5cfbdb4b6ad3",
   "metadata": {},
   "source": [
    "Q6. Create a list containing 25 int type data. Using for loop and if-else condition print if the element is  divisible by 3 or not."
   ]
  },
  {
   "cell_type": "code",
   "execution_count": 6,
   "id": "5c25c687-02cb-431c-8855-e0c7f8b2d09a",
   "metadata": {},
   "outputs": [
    {
     "name": "stdout",
     "output_type": "stream",
     "text": [
      "1 is not divisible by 3\n",
      "2 is not divisible by 3\n",
      "3 is divisible by 3\n",
      "4 is not divisible by 3\n",
      "5 is not divisible by 3\n",
      "6 is divisible by 3\n",
      "7 is not divisible by 3\n",
      "8 is not divisible by 3\n",
      "9 is divisible by 3\n",
      "10 is not divisible by 3\n",
      "11 is not divisible by 3\n",
      "12 is divisible by 3\n",
      "13 is not divisible by 3\n",
      "14 is not divisible by 3\n",
      "15 is divisible by 3\n",
      "16 is not divisible by 3\n",
      "17 is not divisible by 3\n",
      "18 is divisible by 3\n",
      "19 is not divisible by 3\n",
      "20 is not divisible by 3\n",
      "21 is divisible by 3\n",
      "22 is not divisible by 3\n",
      "23 is not divisible by 3\n",
      "24 is divisible by 3\n",
      "25 is not divisible by 3\n"
     ]
    }
   ],
   "source": [
    "my_list = [1, 2, 3, 4, 5, 6, 7, 8, 9, 10, 11, 12, 13, 14, 15, 16, 17, 18, 19, 20, 21, 22, 23, 24, 25]\n",
    "for num in my_list:\n",
    "  if num%3 == 0:\n",
    "    print(f\"{num} is divisible by 3\")\n",
    "  else:\n",
    "    print(f\"{num} is not divisible by 3\")"
   ]
  },
  {
   "cell_type": "markdown",
   "id": "9f83413d-6e63-4dd9-b3fc-c9f6ab0a0ffe",
   "metadata": {},
   "source": [
    "Q7. What do you understand about mutable and immutable data types? Give examples for both showing  this property. "
   ]
  },
  {
   "cell_type": "code",
   "execution_count": 7,
   "id": "d3584f8d-d1a6-402a-bb56-88c2b013c73c",
   "metadata": {},
   "outputs": [
    {
     "name": "stdout",
     "output_type": "stream",
     "text": [
      "[23, 28, 46, 85]\n",
      "[23, 28, 64, 85]\n",
      "I am a Coder\n"
     ]
    },
    {
     "ename": "TypeError",
     "evalue": "'str' object does not support item assignment",
     "output_type": "error",
     "traceback": [
      "\u001b[0;31m---------------------------------------------------------------------------\u001b[0m",
      "\u001b[0;31mTypeError\u001b[0m                                 Traceback (most recent call last)",
      "Cell \u001b[0;32mIn[7], line 9\u001b[0m\n\u001b[1;32m      7\u001b[0m str1 \u001b[38;5;241m=\u001b[39m \u001b[38;5;124m\"\u001b[39m\u001b[38;5;124mI am a Coder\u001b[39m\u001b[38;5;124m\"\u001b[39m\n\u001b[1;32m      8\u001b[0m \u001b[38;5;28mprint\u001b[39m(str1)\n\u001b[0;32m----> 9\u001b[0m \u001b[43mstr1\u001b[49m\u001b[43m[\u001b[49m\u001b[38;5;241;43m5\u001b[39;49m\u001b[43m]\u001b[49m \u001b[38;5;241m=\u001b[39m \u001b[38;5;124m\"\u001b[39m\u001b[38;5;124mi\u001b[39m\u001b[38;5;124m\"\u001b[39m \u001b[38;5;66;03m# Here it shows an error\u001b[39;00m\n\u001b[1;32m     10\u001b[0m \u001b[38;5;28mprint\u001b[39m(str1)\n",
      "\u001b[0;31mTypeError\u001b[0m: 'str' object does not support item assignment"
     ]
    }
   ],
   "source": [
    "# mutable objects are those that allow us to add delete or replcae an data item in it like list\n",
    "list2 = [23, 28, 46, 85]\n",
    "print(list2)\n",
    "list2[2] = 64\n",
    "print(list2)\n",
    "# immutable objects are those that don't allow us to do all above operations\n",
    "str1 = \"I am a Coder\"\n",
    "print(str1)\n",
    "str1[5] = \"i\" # Here it shows an error\n",
    "print(str1)"
   ]
  }
 ],
 "metadata": {
  "kernelspec": {
   "display_name": "Python 3 (ipykernel)",
   "language": "python",
   "name": "python3"
  },
  "language_info": {
   "codemirror_mode": {
    "name": "ipython",
    "version": 3
   },
   "file_extension": ".py",
   "mimetype": "text/x-python",
   "name": "python",
   "nbconvert_exporter": "python",
   "pygments_lexer": "ipython3",
   "version": "3.10.8"
  }
 },
 "nbformat": 4,
 "nbformat_minor": 5
}
